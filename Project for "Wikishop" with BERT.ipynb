{
 "cells": [
  {
   "cell_type": "markdown",
   "id": "85e161b1",
   "metadata": {
    "toc": true
   },
   "source": [
    "<h1>Table of Contents<span class=\"tocSkip\"></span></h1>\n",
    "<div class=\"toc\"><ul class=\"toc-item\"><li><span><a href=\"#Подготовка-признаков\" data-toc-modified-id=\"Подготовка-признаков-1\"><span class=\"toc-item-num\">1&nbsp;&nbsp;</span>Подготовка признаков</a></span></li><li><span><a href=\"#Обучение-моделей\" data-toc-modified-id=\"Обучение-моделей-2\"><span class=\"toc-item-num\">2&nbsp;&nbsp;</span>Обучение моделей</a></span><ul class=\"toc-item\"><li><span><a href=\"#Catboost\" data-toc-modified-id=\"Catboost-2.1\"><span class=\"toc-item-num\">2.1&nbsp;&nbsp;</span>Catboost</a></span></li><li><span><a href=\"#LightGBM\" data-toc-modified-id=\"LightGBM-2.2\"><span class=\"toc-item-num\">2.2&nbsp;&nbsp;</span>LightGBM</a></span></li><li><span><a href=\"#LogisticRegression\" data-toc-modified-id=\"LogisticRegression-2.3\"><span class=\"toc-item-num\">2.3&nbsp;&nbsp;</span>LogisticRegression</a></span></li></ul></li><li><span><a href=\"#Тестирование-модели-LogisticRegression\" data-toc-modified-id=\"Тестирование-модели-LogisticRegression-3\"><span class=\"toc-item-num\">3&nbsp;&nbsp;</span>Тестирование модели LogisticRegression</a></span></li><li><span><a href=\"#Вывод\" data-toc-modified-id=\"Вывод-4\"><span class=\"toc-item-num\">4&nbsp;&nbsp;</span>Вывод</a></span></li></ul></div>"
   ]
  },
  {
   "cell_type": "markdown",
   "id": "a9d8ad4d",
   "metadata": {},
   "source": [
    "# Проект для \"Викишоп\" с BERT"
   ]
  },
  {
   "cell_type": "markdown",
   "id": "eb63835d",
   "metadata": {},
   "source": [
    "Интернет-магазин «Викишоп» запускает новый сервис. Теперь пользователи могут редактировать и дополнять описания товаров, как в вики-сообществах. То есть клиенты предлагают свои правки и комментируют изменения других. Магазину нужен инструмент, который будет искать токсичные комментарии и отправлять их на модерацию. \n",
    "\n",
    "Обучите модель классифицировать комментарии на позитивные и негативные. В вашем распоряжении набор данных с разметкой о токсичности правок.\n",
    "\n",
    "Постройте модель со значением метрики качества *F1* не меньше 0.75. \n",
    "\n",
    "**Инструкция по выполнению проекта**\n",
    "\n",
    "1. Загрузите и подготовьте данные.\n",
    "2. Обучите разные модели. \n",
    "3. Сделайте выводы.\n",
    "\n",
    "Для выполнения проекта применять *BERT* необязательно, но вы можете попробовать.\n",
    "\n",
    "**Описание данных**\n",
    "\n",
    "Данные находятся в файле `toxic_comments.csv`. Столбец *text* в нём содержит текст комментария, а *toxic* — целевой признак."
   ]
  },
  {
   "cell_type": "markdown",
   "id": "a412302d",
   "metadata": {},
   "source": [
    "## Подготовка признаков"
   ]
  },
  {
   "cell_type": "markdown",
   "id": "af47fec8",
   "metadata": {},
   "source": [
    "Импортируем нужные библиотеки"
   ]
  },
  {
   "cell_type": "code",
   "execution_count": 4,
   "id": "52777c92",
   "metadata": {},
   "outputs": [],
   "source": [
    "import pandas as pd\n",
    "import numpy as np\n",
    "import transformers\n",
    "from tqdm import notebook\n",
    "import torch\n",
    "\n",
    "from sklearn.model_selection import train_test_split\n",
    "from sklearn.model_selection import cross_val_score\n",
    "from sklearn.metrics import f1_score\n",
    "from sklearn.metrics import make_scorer\n",
    "\n",
    "from catboost import CatBoostClassifier\n",
    "from lightgbm import LGBMClassifier\n",
    "from xgboost import XGBRFClassifier\n",
    "from sklearn.linear_model import LogisticRegression"
   ]
  },
  {
   "cell_type": "code",
   "execution_count": 5,
   "id": "056725bc",
   "metadata": {},
   "outputs": [
    {
     "data": {
      "text/html": [
       "<div>\n",
       "<style scoped>\n",
       "    .dataframe tbody tr th:only-of-type {\n",
       "        vertical-align: middle;\n",
       "    }\n",
       "\n",
       "    .dataframe tbody tr th {\n",
       "        vertical-align: top;\n",
       "    }\n",
       "\n",
       "    .dataframe thead th {\n",
       "        text-align: right;\n",
       "    }\n",
       "</style>\n",
       "<table border=\"1\" class=\"dataframe\">\n",
       "  <thead>\n",
       "    <tr style=\"text-align: right;\">\n",
       "      <th></th>\n",
       "      <th>Unnamed: 0</th>\n",
       "      <th>text</th>\n",
       "      <th>toxic</th>\n",
       "    </tr>\n",
       "  </thead>\n",
       "  <tbody>\n",
       "    <tr>\n",
       "      <th>0</th>\n",
       "      <td>0</td>\n",
       "      <td>Explanation\\nWhy the edits made under my usern...</td>\n",
       "      <td>0</td>\n",
       "    </tr>\n",
       "    <tr>\n",
       "      <th>1</th>\n",
       "      <td>1</td>\n",
       "      <td>D'aww! He matches this background colour I'm s...</td>\n",
       "      <td>0</td>\n",
       "    </tr>\n",
       "    <tr>\n",
       "      <th>2</th>\n",
       "      <td>2</td>\n",
       "      <td>Hey man, I'm really not trying to edit war. It...</td>\n",
       "      <td>0</td>\n",
       "    </tr>\n",
       "    <tr>\n",
       "      <th>3</th>\n",
       "      <td>3</td>\n",
       "      <td>\"\\nMore\\nI can't make any real suggestions on ...</td>\n",
       "      <td>0</td>\n",
       "    </tr>\n",
       "    <tr>\n",
       "      <th>4</th>\n",
       "      <td>4</td>\n",
       "      <td>You, sir, are my hero. Any chance you remember...</td>\n",
       "      <td>0</td>\n",
       "    </tr>\n",
       "  </tbody>\n",
       "</table>\n",
       "</div>"
      ],
      "text/plain": [
       "   Unnamed: 0                                               text  toxic\n",
       "0           0  Explanation\\nWhy the edits made under my usern...      0\n",
       "1           1  D'aww! He matches this background colour I'm s...      0\n",
       "2           2  Hey man, I'm really not trying to edit war. It...      0\n",
       "3           3  \"\\nMore\\nI can't make any real suggestions on ...      0\n",
       "4           4  You, sir, are my hero. Any chance you remember...      0"
      ]
     },
     "execution_count": 5,
     "metadata": {},
     "output_type": "execute_result"
    }
   ],
   "source": [
    "df_toxic = pd.read_csv('datasets/toxic_comments.csv')\n",
    "df_toxic.head()"
   ]
  },
  {
   "cell_type": "markdown",
   "id": "202ca2c9",
   "metadata": {},
   "source": [
    "Уберем неинформативный столбец \"Unnamed: 0\""
   ]
  },
  {
   "cell_type": "code",
   "execution_count": 6,
   "id": "5d8e72ec",
   "metadata": {
    "scrolled": true
   },
   "outputs": [
    {
     "data": {
      "text/html": [
       "<div>\n",
       "<style scoped>\n",
       "    .dataframe tbody tr th:only-of-type {\n",
       "        vertical-align: middle;\n",
       "    }\n",
       "\n",
       "    .dataframe tbody tr th {\n",
       "        vertical-align: top;\n",
       "    }\n",
       "\n",
       "    .dataframe thead th {\n",
       "        text-align: right;\n",
       "    }\n",
       "</style>\n",
       "<table border=\"1\" class=\"dataframe\">\n",
       "  <thead>\n",
       "    <tr style=\"text-align: right;\">\n",
       "      <th></th>\n",
       "      <th>text</th>\n",
       "      <th>toxic</th>\n",
       "    </tr>\n",
       "  </thead>\n",
       "  <tbody>\n",
       "    <tr>\n",
       "      <th>0</th>\n",
       "      <td>Explanation\\nWhy the edits made under my usern...</td>\n",
       "      <td>0</td>\n",
       "    </tr>\n",
       "    <tr>\n",
       "      <th>1</th>\n",
       "      <td>D'aww! He matches this background colour I'm s...</td>\n",
       "      <td>0</td>\n",
       "    </tr>\n",
       "    <tr>\n",
       "      <th>2</th>\n",
       "      <td>Hey man, I'm really not trying to edit war. It...</td>\n",
       "      <td>0</td>\n",
       "    </tr>\n",
       "    <tr>\n",
       "      <th>3</th>\n",
       "      <td>\"\\nMore\\nI can't make any real suggestions on ...</td>\n",
       "      <td>0</td>\n",
       "    </tr>\n",
       "    <tr>\n",
       "      <th>4</th>\n",
       "      <td>You, sir, are my hero. Any chance you remember...</td>\n",
       "      <td>0</td>\n",
       "    </tr>\n",
       "    <tr>\n",
       "      <th>...</th>\n",
       "      <td>...</td>\n",
       "      <td>...</td>\n",
       "    </tr>\n",
       "    <tr>\n",
       "      <th>159287</th>\n",
       "      <td>\":::::And for the second time of asking, when ...</td>\n",
       "      <td>0</td>\n",
       "    </tr>\n",
       "    <tr>\n",
       "      <th>159288</th>\n",
       "      <td>You should be ashamed of yourself \\n\\nThat is ...</td>\n",
       "      <td>0</td>\n",
       "    </tr>\n",
       "    <tr>\n",
       "      <th>159289</th>\n",
       "      <td>Spitzer \\n\\nUmm, theres no actual article for ...</td>\n",
       "      <td>0</td>\n",
       "    </tr>\n",
       "    <tr>\n",
       "      <th>159290</th>\n",
       "      <td>And it looks like it was actually you who put ...</td>\n",
       "      <td>0</td>\n",
       "    </tr>\n",
       "    <tr>\n",
       "      <th>159291</th>\n",
       "      <td>\"\\nAnd ... I really don't think you understand...</td>\n",
       "      <td>0</td>\n",
       "    </tr>\n",
       "  </tbody>\n",
       "</table>\n",
       "<p>159292 rows × 2 columns</p>\n",
       "</div>"
      ],
      "text/plain": [
       "                                                     text  toxic\n",
       "0       Explanation\\nWhy the edits made under my usern...      0\n",
       "1       D'aww! He matches this background colour I'm s...      0\n",
       "2       Hey man, I'm really not trying to edit war. It...      0\n",
       "3       \"\\nMore\\nI can't make any real suggestions on ...      0\n",
       "4       You, sir, are my hero. Any chance you remember...      0\n",
       "...                                                   ...    ...\n",
       "159287  \":::::And for the second time of asking, when ...      0\n",
       "159288  You should be ashamed of yourself \\n\\nThat is ...      0\n",
       "159289  Spitzer \\n\\nUmm, theres no actual article for ...      0\n",
       "159290  And it looks like it was actually you who put ...      0\n",
       "159291  \"\\nAnd ... I really don't think you understand...      0\n",
       "\n",
       "[159292 rows x 2 columns]"
      ]
     },
     "execution_count": 6,
     "metadata": {},
     "output_type": "execute_result"
    }
   ],
   "source": [
    "df_toxic = df_toxic.drop(['Unnamed: 0'], axis=1)\n",
    "df_toxic"
   ]
  },
  {
   "cell_type": "markdown",
   "id": "481f511f",
   "metadata": {},
   "source": [
    "Посмотрим на общее соотношение токсичных комментариев к не токсичным"
   ]
  },
  {
   "cell_type": "code",
   "execution_count": 7,
   "id": "9c1af7e1",
   "metadata": {},
   "outputs": [
    {
     "data": {
      "text/plain": [
       "<AxesSubplot: xlabel='toxic'>"
      ]
     },
     "execution_count": 7,
     "metadata": {},
     "output_type": "execute_result"
    },
    {
     "data": {
      "image/png": "[encoded data removed]",
      "text/plain": [
       "<Figure size 640x480 with 1 Axes>"
      ]
     },
     "metadata": {},
     "output_type": "display_data"
    }
   ],
   "source": [
    "df_toxic.pivot_table(index='toxic',values='toxic', aggfunc='count').plot(kind='bar')"
   ]
  },
  {
   "cell_type": "markdown",
   "id": "3f2630a3",
   "metadata": {},
   "source": [
    "Как видно из графика выше, в данных сильный дисбаланс в сторону не токсичных комментариев, что может сильно повлиять на итоговый показатель качества модели"
   ]
  },
  {
   "cell_type": "markdown",
   "id": "9741e43c",
   "metadata": {},
   "source": [
    "Проверим количество пропущенных значений и дубликатов в датасете"
   ]
  },
  {
   "cell_type": "code",
   "execution_count": 8,
   "id": "a7526f6f",
   "metadata": {},
   "outputs": [
    {
     "data": {
      "text/plain": [
       "text     0\n",
       "toxic    0\n",
       "dtype: int64"
      ]
     },
     "execution_count": 8,
     "metadata": {},
     "output_type": "execute_result"
    }
   ],
   "source": [
    "df_toxic.isna().sum()"
   ]
  },
  {
   "cell_type": "code",
   "execution_count": 9,
   "id": "11712863",
   "metadata": {},
   "outputs": [
    {
     "data": {
      "text/plain": [
       "0"
      ]
     },
     "execution_count": 9,
     "metadata": {},
     "output_type": "execute_result"
    }
   ],
   "source": [
    "df_toxic.duplicated().sum()"
   ]
  },
  {
   "cell_type": "markdown",
   "id": "c95daa0c",
   "metadata": {},
   "source": [
    "Ввиду ограниченности вычислительных ресурсов, для дальнейшей работы возьмем выборку из 10000 строк "
   ]
  },
  {
   "cell_type": "code",
   "execution_count": 10,
   "id": "bae6591a",
   "metadata": {},
   "outputs": [],
   "source": [
    "df_toxic = df_toxic.sample(10000, random_state=12345)"
   ]
  },
  {
   "cell_type": "markdown",
   "id": "1ce7109d",
   "metadata": {},
   "source": [
    "Проведем токенизацию и пэддинг признаков"
   ]
  },
  {
   "cell_type": "code",
   "execution_count": 11,
   "id": "45694cd5",
   "metadata": {},
   "outputs": [
    {
     "name": "stderr",
     "output_type": "stream",
     "text": [
      "2023-04-10 13:44:13.859896: I tensorflow/core/platform/cpu_feature_guard.cc:193] This TensorFlow binary is optimized with oneAPI Deep Neural Network Library (oneDNN) to use the following CPU instructions in performance-critical operations:  SSE4.1 SSE4.2\n",
      "To enable them in other operations, rebuild TensorFlow with the appropriate compiler flags.\n"
     ]
    }
   ],
   "source": [
    "tokenizer = transformers.BertTokenizer.from_pretrained('bert-base-uncased')\n",
    "\n",
    "\n",
    "tokenized = df_toxic['text'].apply(\n",
    "    lambda x: tokenizer.encode(x, add_special_tokens=True, max_length=512, truncation=True))\n",
    "\n",
    "max_len = 0\n",
    "for i in tokenized.values:\n",
    "    if len(i) > max_len:\n",
    "        max_len = len(i)\n",
    "\n",
    "padded = np.array([i + [0]*(max_len - len(i)) for i in tokenized.values])\n",
    "\n",
    "attention_mask = np.where(padded != 0, 1, 0)"
   ]
  },
  {
   "cell_type": "markdown",
   "id": "3d81d48a",
   "metadata": {},
   "source": [
    "Возьмем модель Bert Base Uncased (https://huggingface.co/bert-base-uncased) и с ее помощью обработаем комментарии"
   ]
  },
  {
   "cell_type": "code",
   "execution_count": 12,
   "id": "a3738463",
   "metadata": {},
   "outputs": [
    {
     "name": "stderr",
     "output_type": "stream",
     "text": [
      "Some weights of the model checkpoint at bert-base-uncased were not used when initializing BertModel: ['cls.seq_relationship.bias', 'cls.predictions.transform.dense.bias', 'cls.predictions.transform.LayerNorm.weight', 'cls.predictions.bias', 'cls.seq_relationship.weight', 'cls.predictions.decoder.weight', 'cls.predictions.transform.dense.weight', 'cls.predictions.transform.LayerNorm.bias']\n",
      "- This IS expected if you are initializing BertModel from the checkpoint of a model trained on another task or with another architecture (e.g. initializing a BertForSequenceClassification model from a BertForPreTraining model).\n",
      "- This IS NOT expected if you are initializing BertModel from the checkpoint of a model that you expect to be exactly identical (initializing a BertForSequenceClassification model from a BertForSequenceClassification model).\n"
     ]
    }
   ],
   "source": [
    "model = transformers.BertModel.from_pretrained(\n",
    "    \"bert-base-uncased\")"
   ]
  },
  {
   "cell_type": "code",
   "execution_count": 13,
   "id": "4b7a6b82",
   "metadata": {},
   "outputs": [
    {
     "data": {
      "application/vnd.jupyter.widget-view+json": {
       "model_id": "cd0a028d627549e3b3fdebcde361c83b",
       "version_major": 2,
       "version_minor": 0
      },
      "text/plain": [
       "  0%|          | 0/1000 [00:00<?, ?it/s]"
      ]
     },
     "metadata": {},
     "output_type": "display_data"
    }
   ],
   "source": [
    "batch_size = 10\n",
    "embeddings = []\n",
    "\n",
    "for i in notebook.tqdm(range(padded.shape[0] // batch_size)):\n",
    "    batch = torch.LongTensor(padded[batch_size*i:batch_size*(i+1)])\n",
    "    attention_mask_batch = torch.LongTensor(attention_mask[batch_size*i:batch_size*(i+1)])\n",
    "    \n",
    "    with torch.no_grad():\n",
    "        batch_embeddings = model(batch, attention_mask=attention_mask_batch)\n",
    "    embeddings.append(batch_embeddings[0][:,0,:].numpy())"
   ]
  },
  {
   "cell_type": "markdown",
   "id": "b229e5e6",
   "metadata": {},
   "source": [
    "Разобьем данные на обучающую и тестовую выборки в соотношении 1/4"
   ]
  },
  {
   "cell_type": "code",
   "execution_count": 163,
   "id": "b6cc4fdf",
   "metadata": {
    "scrolled": true
   },
   "outputs": [
    {
     "name": "stdout",
     "output_type": "stream",
     "text": [
      "(8000, 768)\n",
      "(2000, 768)\n",
      "(8000,)\n",
      "(2000,)\n"
     ]
    }
   ],
   "source": [
    "X = np.concatenate(embeddings)\n",
    "\n",
    "y = df_toxic['toxic']\n",
    "\n",
    "X_train, X_test, y_train, y_test = train_test_split(\n",
    "    X, y, test_size=.2, random_state=12345)\n",
    "\n",
    "print(X_train.shape)\n",
    "print(X_test.shape)\n",
    "\n",
    "print(y_train.shape)\n",
    "print(y_test.shape)"
   ]
  },
  {
   "cell_type": "markdown",
   "id": "8be04ae1",
   "metadata": {},
   "source": [
    "## Обучение моделей"
   ]
  },
  {
   "cell_type": "markdown",
   "id": "873af901",
   "metadata": {},
   "source": [
    "### Catboost"
   ]
  },
  {
   "cell_type": "code",
   "execution_count": 170,
   "id": "a170d44f",
   "metadata": {
    "scrolled": true
   },
   "outputs": [
    {
     "name": "stdout",
     "output_type": "stream",
     "text": [
      "0:\tlearn: 0.5877975\ttotal: 20ms\tremaining: 1.98s\n",
      "10:\tlearn: 0.2773826\ttotal: 74.8ms\tremaining: 605ms\n",
      "20:\tlearn: 0.2268966\ttotal: 132ms\tremaining: 495ms\n",
      "30:\tlearn: 0.2056648\ttotal: 208ms\tremaining: 463ms\n",
      "40:\tlearn: 0.1921568\ttotal: 267ms\tremaining: 384ms\n",
      "50:\tlearn: 0.1827092\ttotal: 322ms\tremaining: 309ms\n",
      "60:\tlearn: 0.1757899\ttotal: 377ms\tremaining: 241ms\n",
      "70:\tlearn: 0.1698199\ttotal: 437ms\tremaining: 179ms\n",
      "80:\tlearn: 0.1648309\ttotal: 495ms\tremaining: 116ms\n",
      "90:\tlearn: 0.1596755\ttotal: 554ms\tremaining: 54.8ms\n",
      "99:\tlearn: 0.1554440\ttotal: 611ms\tremaining: 0us\n",
      "0:\tlearn: 0.5959338\ttotal: 6.34ms\tremaining: 628ms\n",
      "10:\tlearn: 0.2723346\ttotal: 70.8ms\tremaining: 573ms\n",
      "20:\tlearn: 0.2254477\ttotal: 135ms\tremaining: 508ms\n",
      "30:\tlearn: 0.2049953\ttotal: 203ms\tremaining: 452ms\n",
      "40:\tlearn: 0.1928076\ttotal: 274ms\tremaining: 394ms\n",
      "50:\tlearn: 0.1838086\ttotal: 332ms\tremaining: 319ms\n",
      "60:\tlearn: 0.1759068\ttotal: 393ms\tremaining: 251ms\n",
      "70:\tlearn: 0.1698443\ttotal: 454ms\tremaining: 186ms\n",
      "80:\tlearn: 0.1650502\ttotal: 519ms\tremaining: 122ms\n",
      "90:\tlearn: 0.1602172\ttotal: 582ms\tremaining: 57.6ms\n",
      "99:\tlearn: 0.1563257\ttotal: 633ms\tremaining: 0us\n",
      "0:\tlearn: 0.5957239\ttotal: 8.28ms\tremaining: 819ms\n",
      "10:\tlearn: 0.2815747\ttotal: 88.9ms\tremaining: 719ms\n",
      "20:\tlearn: 0.2306282\ttotal: 148ms\tremaining: 558ms\n",
      "30:\tlearn: 0.2098375\ttotal: 205ms\tremaining: 457ms\n",
      "40:\tlearn: 0.1952886\ttotal: 265ms\tremaining: 382ms\n",
      "50:\tlearn: 0.1856700\ttotal: 328ms\tremaining: 316ms\n",
      "60:\tlearn: 0.1780697\ttotal: 393ms\tremaining: 251ms\n",
      "70:\tlearn: 0.1714146\ttotal: 454ms\tremaining: 185ms\n",
      "80:\tlearn: 0.1659761\ttotal: 516ms\tremaining: 121ms\n",
      "90:\tlearn: 0.1611496\ttotal: 572ms\tremaining: 56.6ms\n",
      "99:\tlearn: 0.1572864\ttotal: 626ms\tremaining: 0us\n",
      "0:\tlearn: 0.5889627\ttotal: 5.87ms\tremaining: 581ms\n",
      "10:\tlearn: 0.2816540\ttotal: 59.3ms\tremaining: 479ms\n",
      "20:\tlearn: 0.2294754\ttotal: 121ms\tremaining: 455ms\n",
      "30:\tlearn: 0.2076063\ttotal: 177ms\tremaining: 393ms\n",
      "40:\tlearn: 0.1946440\ttotal: 236ms\tremaining: 340ms\n",
      "50:\tlearn: 0.1851780\ttotal: 300ms\tremaining: 288ms\n",
      "60:\tlearn: 0.1791756\ttotal: 355ms\tremaining: 227ms\n",
      "70:\tlearn: 0.1731860\ttotal: 432ms\tremaining: 177ms\n",
      "80:\tlearn: 0.1679988\ttotal: 501ms\tremaining: 118ms\n",
      "90:\tlearn: 0.1630192\ttotal: 563ms\tremaining: 55.6ms\n",
      "99:\tlearn: 0.1586248\ttotal: 621ms\tremaining: 0us\n",
      "0:\tlearn: 0.5953828\ttotal: 6.96ms\tremaining: 690ms\n",
      "10:\tlearn: 0.2848274\ttotal: 81.6ms\tremaining: 660ms\n",
      "20:\tlearn: 0.2340388\ttotal: 156ms\tremaining: 586ms\n",
      "30:\tlearn: 0.2122419\ttotal: 212ms\tremaining: 472ms\n",
      "40:\tlearn: 0.1998429\ttotal: 270ms\tremaining: 389ms\n",
      "50:\tlearn: 0.1907029\ttotal: 328ms\tremaining: 316ms\n",
      "60:\tlearn: 0.1827229\ttotal: 385ms\tremaining: 246ms\n",
      "70:\tlearn: 0.1765147\ttotal: 449ms\tremaining: 183ms\n",
      "80:\tlearn: 0.1710312\ttotal: 508ms\tremaining: 119ms\n",
      "90:\tlearn: 0.1657320\ttotal: 564ms\tremaining: 55.8ms\n",
      "99:\tlearn: 0.1618056\ttotal: 613ms\tremaining: 0us\n",
      "0:\tlearn: 0.5951699\ttotal: 6.33ms\tremaining: 626ms\n",
      "10:\tlearn: 0.2804439\ttotal: 60.9ms\tremaining: 493ms\n",
      "20:\tlearn: 0.2316594\ttotal: 118ms\tremaining: 445ms\n",
      "30:\tlearn: 0.2090538\ttotal: 176ms\tremaining: 392ms\n",
      "40:\tlearn: 0.1953580\ttotal: 235ms\tremaining: 338ms\n",
      "50:\tlearn: 0.1852374\ttotal: 294ms\tremaining: 282ms\n",
      "60:\tlearn: 0.1779370\ttotal: 351ms\tremaining: 224ms\n",
      "70:\tlearn: 0.1714909\ttotal: 407ms\tremaining: 166ms\n",
      "80:\tlearn: 0.1656916\ttotal: 462ms\tremaining: 108ms\n",
      "90:\tlearn: 0.1608642\ttotal: 518ms\tremaining: 51.3ms\n",
      "99:\tlearn: 0.1570834\ttotal: 569ms\tremaining: 0us\n",
      "0:\tlearn: 0.5909358\ttotal: 6.18ms\tremaining: 612ms\n",
      "10:\tlearn: 0.2715572\ttotal: 66.5ms\tremaining: 538ms\n",
      "20:\tlearn: 0.2225026\ttotal: 123ms\tremaining: 462ms\n",
      "30:\tlearn: 0.2031664\ttotal: 179ms\tremaining: 399ms\n",
      "40:\tlearn: 0.1898963\ttotal: 236ms\tremaining: 340ms\n",
      "50:\tlearn: 0.1799709\ttotal: 291ms\tremaining: 280ms\n",
      "60:\tlearn: 0.1721519\ttotal: 347ms\tremaining: 222ms\n",
      "70:\tlearn: 0.1661582\ttotal: 403ms\tremaining: 165ms\n",
      "80:\tlearn: 0.1612513\ttotal: 459ms\tremaining: 108ms\n",
      "90:\tlearn: 0.1564275\ttotal: 515ms\tremaining: 50.9ms\n",
      "99:\tlearn: 0.1525978\ttotal: 564ms\tremaining: 0us\n",
      "0:\tlearn: 0.5906430\ttotal: 5.78ms\tremaining: 572ms\n",
      "10:\tlearn: 0.2759147\ttotal: 62ms\tremaining: 502ms\n",
      "20:\tlearn: 0.2274554\ttotal: 116ms\tremaining: 437ms\n",
      "30:\tlearn: 0.2072289\ttotal: 186ms\tremaining: 414ms\n",
      "40:\tlearn: 0.1947990\ttotal: 281ms\tremaining: 405ms\n",
      "50:\tlearn: 0.1852512\ttotal: 342ms\tremaining: 328ms\n",
      "60:\tlearn: 0.1782944\ttotal: 397ms\tremaining: 254ms\n",
      "70:\tlearn: 0.1718579\ttotal: 452ms\tremaining: 185ms\n",
      "80:\tlearn: 0.1664583\ttotal: 510ms\tremaining: 120ms\n",
      "90:\tlearn: 0.1610223\ttotal: 566ms\tremaining: 56ms\n",
      "99:\tlearn: 0.1566819\ttotal: 616ms\tremaining: 0us\n",
      "0:\tlearn: 0.5880532\ttotal: 6.39ms\tremaining: 633ms\n",
      "10:\tlearn: 0.2788611\ttotal: 67.4ms\tremaining: 545ms\n",
      "20:\tlearn: 0.2300454\ttotal: 127ms\tremaining: 479ms\n",
      "30:\tlearn: 0.2094176\ttotal: 188ms\tremaining: 419ms\n",
      "40:\tlearn: 0.1967349\ttotal: 251ms\tremaining: 362ms\n",
      "50:\tlearn: 0.1869203\ttotal: 313ms\tremaining: 301ms\n",
      "60:\tlearn: 0.1792216\ttotal: 371ms\tremaining: 237ms\n",
      "70:\tlearn: 0.1727052\ttotal: 429ms\tremaining: 175ms\n",
      "80:\tlearn: 0.1677195\ttotal: 489ms\tremaining: 115ms\n",
      "90:\tlearn: 0.1625739\ttotal: 546ms\tremaining: 54ms\n",
      "99:\tlearn: 0.1586472\ttotal: 606ms\tremaining: 0us\n",
      "0:\tlearn: 0.5883521\ttotal: 7.25ms\tremaining: 718ms\n",
      "10:\tlearn: 0.2804091\ttotal: 63.8ms\tremaining: 516ms\n",
      "20:\tlearn: 0.2311799\ttotal: 119ms\tremaining: 449ms\n",
      "30:\tlearn: 0.2095078\ttotal: 175ms\tremaining: 389ms\n",
      "40:\tlearn: 0.1958376\ttotal: 231ms\tremaining: 332ms\n",
      "50:\tlearn: 0.1868539\ttotal: 288ms\tremaining: 277ms\n",
      "60:\tlearn: 0.1792895\ttotal: 346ms\tremaining: 221ms\n",
      "70:\tlearn: 0.1731938\ttotal: 403ms\tremaining: 165ms\n",
      "80:\tlearn: 0.1682665\ttotal: 462ms\tremaining: 108ms\n",
      "90:\tlearn: 0.1630871\ttotal: 522ms\tremaining: 51.7ms\n",
      "99:\tlearn: 0.1591085\ttotal: 576ms\tremaining: 0us\n",
      "CPU times: user 41.7 s, sys: 1.75 s, total: 43.5 s\n",
      "Wall time: 9.05 s\n"
     ]
    }
   ],
   "source": [
    "%%time\n",
    "model_CB = CatBoostClassifier(iterations=100, learning_rate=.1, depth=2, verbose=10)\n",
    "score = cross_val_score(model_CB, X_train, y_train, scoring=make_scorer(f1_score, average='weighted'), cv=10).mean()"
   ]
  },
  {
   "cell_type": "code",
   "execution_count": 171,
   "id": "2a9a3ff2",
   "metadata": {},
   "outputs": [
    {
     "name": "stdout",
     "output_type": "stream",
     "text": [
      "Catboost F1 score: 0.924\n"
     ]
    }
   ],
   "source": [
    "print(f'Catboost F1 score: {score:.3f}')"
   ]
  },
  {
   "cell_type": "markdown",
   "id": "17cad8d6",
   "metadata": {},
   "source": [
    "### LightGBM"
   ]
  },
  {
   "cell_type": "code",
   "execution_count": 174,
   "id": "1252ab5d",
   "metadata": {},
   "outputs": [
    {
     "data": {
      "application/vnd.jupyter.widget-view+json": {
       "model_id": "5aae6a0884d24264b38dffafbf4d1d2f",
       "version_major": 2,
       "version_minor": 0
      },
      "text/plain": [
       "  0%|          | 0/5 [00:00<?, ?it/s]"
      ]
     },
     "metadata": {},
     "output_type": "display_data"
    },
    {
     "data": {
      "application/vnd.jupyter.widget-view+json": {
       "model_id": "5ee8588aedf04c768dc0e3c26781175d",
       "version_major": 2,
       "version_minor": 0
      },
      "text/plain": [
       "  0%|          | 0/4 [00:00<?, ?it/s]"
      ]
     },
     "metadata": {},
     "output_type": "display_data"
    },
    {
     "data": {
      "application/vnd.jupyter.widget-view+json": {
       "model_id": "b803f20e434c4b4295851a91364f99bf",
       "version_major": 2,
       "version_minor": 0
      },
      "text/plain": [
       "  0%|          | 0/4 [00:00<?, ?it/s]"
      ]
     },
     "metadata": {},
     "output_type": "display_data"
    },
    {
     "data": {
      "application/vnd.jupyter.widget-view+json": {
       "model_id": "5fb17fdffce344149a244c9667fd2591",
       "version_major": 2,
       "version_minor": 0
      },
      "text/plain": [
       "  0%|          | 0/4 [00:00<?, ?it/s]"
      ]
     },
     "metadata": {},
     "output_type": "display_data"
    },
    {
     "data": {
      "application/vnd.jupyter.widget-view+json": {
       "model_id": "2561f3a267944ffd9505d2590472801a",
       "version_major": 2,
       "version_minor": 0
      },
      "text/plain": [
       "  0%|          | 0/4 [00:00<?, ?it/s]"
      ]
     },
     "metadata": {},
     "output_type": "display_data"
    },
    {
     "data": {
      "application/vnd.jupyter.widget-view+json": {
       "model_id": "f0f37be6d8644f9fa07ef893e452d05b",
       "version_major": 2,
       "version_minor": 0
      },
      "text/plain": [
       "  0%|          | 0/4 [00:00<?, ?it/s]"
      ]
     },
     "metadata": {},
     "output_type": "display_data"
    },
    {
     "name": "stdout",
     "output_type": "stream",
     "text": [
      "CPU times: user 12min 58s, sys: 1min 10s, total: 14min 9s\n",
      "Wall time: 1min 54s\n"
     ]
    }
   ],
   "source": [
    "%%time\n",
    "model_LGBM = None\n",
    "n_est = None\n",
    "depth = None \n",
    "score = 0\n",
    "for n_est in notebook.tqdm(range(20, 101, 20)):\n",
    "    for depth in notebook.tqdm(range(1, 5, 1)):\n",
    "        model = LGBMClassifier(learning_rate=.1, n_estimators=n_est, max_depth=depth)\n",
    "        cv = cross_val_score(\n",
    "            model,\n",
    "            X_train,\n",
    "            y_train,\n",
    "            scoring=make_scorer(f1_score, average='weighted'),\n",
    "            cv=10).mean()\n",
    "        if cv > score:\n",
    "            model_LGBM = model\n",
    "            n_est = n_est\n",
    "            depth = depth\n",
    "            score = cv"
   ]
  },
  {
   "cell_type": "code",
   "execution_count": 175,
   "id": "d13e9816",
   "metadata": {},
   "outputs": [
    {
     "name": "stdout",
     "output_type": "stream",
     "text": [
      "LightGBM Cross-val score: 0.930\n"
     ]
    }
   ],
   "source": [
    "print(f'LightGBM Cross-val score: {score:.3f}')"
   ]
  },
  {
   "cell_type": "markdown",
   "id": "92be579a",
   "metadata": {},
   "source": [
    "### LogisticRegression"
   ]
  },
  {
   "cell_type": "code",
   "execution_count": 180,
   "id": "a41aa961",
   "metadata": {},
   "outputs": [
    {
     "name": "stderr",
     "output_type": "stream",
     "text": [
      "/Users/denisusupov/opt/anaconda3/envs/ds_practicum_env/lib/python3.9/site-packages/sklearn/linear_model/_sag.py:350: ConvergenceWarning: The max_iter was reached which means the coef_ did not converge\n",
      "  warnings.warn(\n",
      "/Users/denisusupov/opt/anaconda3/envs/ds_practicum_env/lib/python3.9/site-packages/sklearn/linear_model/_sag.py:350: ConvergenceWarning: The max_iter was reached which means the coef_ did not converge\n",
      "  warnings.warn(\n",
      "/Users/denisusupov/opt/anaconda3/envs/ds_practicum_env/lib/python3.9/site-packages/sklearn/linear_model/_sag.py:350: ConvergenceWarning: The max_iter was reached which means the coef_ did not converge\n",
      "  warnings.warn(\n",
      "/Users/denisusupov/opt/anaconda3/envs/ds_practicum_env/lib/python3.9/site-packages/sklearn/linear_model/_sag.py:350: ConvergenceWarning: The max_iter was reached which means the coef_ did not converge\n",
      "  warnings.warn(\n",
      "/Users/denisusupov/opt/anaconda3/envs/ds_practicum_env/lib/python3.9/site-packages/sklearn/linear_model/_sag.py:350: ConvergenceWarning: The max_iter was reached which means the coef_ did not converge\n",
      "  warnings.warn(\n",
      "/Users/denisusupov/opt/anaconda3/envs/ds_practicum_env/lib/python3.9/site-packages/sklearn/linear_model/_sag.py:350: ConvergenceWarning: The max_iter was reached which means the coef_ did not converge\n",
      "  warnings.warn(\n",
      "/Users/denisusupov/opt/anaconda3/envs/ds_practicum_env/lib/python3.9/site-packages/sklearn/linear_model/_sag.py:350: ConvergenceWarning: The max_iter was reached which means the coef_ did not converge\n",
      "  warnings.warn(\n",
      "/Users/denisusupov/opt/anaconda3/envs/ds_practicum_env/lib/python3.9/site-packages/sklearn/linear_model/_sag.py:350: ConvergenceWarning: The max_iter was reached which means the coef_ did not converge\n",
      "  warnings.warn(\n",
      "/Users/denisusupov/opt/anaconda3/envs/ds_practicum_env/lib/python3.9/site-packages/sklearn/linear_model/_sag.py:350: ConvergenceWarning: The max_iter was reached which means the coef_ did not converge\n",
      "  warnings.warn(\n"
     ]
    },
    {
     "name": "stdout",
     "output_type": "stream",
     "text": [
      "CPU times: user 36.6 s, sys: 2.45 s, total: 39.1 s\n",
      "Wall time: 37.6 s\n"
     ]
    },
    {
     "name": "stderr",
     "output_type": "stream",
     "text": [
      "/Users/denisusupov/opt/anaconda3/envs/ds_practicum_env/lib/python3.9/site-packages/sklearn/linear_model/_sag.py:350: ConvergenceWarning: The max_iter was reached which means the coef_ did not converge\n",
      "  warnings.warn(\n"
     ]
    }
   ],
   "source": [
    "%%time\n",
    "model_LR = LogisticRegression(solver='saga', max_iter=100)\n",
    "score = cross_val_score(model_LR, X_train, y_train, scoring=make_scorer(f1_score, average='weighted'), cv=10).mean()"
   ]
  },
  {
   "cell_type": "code",
   "execution_count": 181,
   "id": "fd16d829",
   "metadata": {},
   "outputs": [
    {
     "name": "stdout",
     "output_type": "stream",
     "text": [
      "LogisticRegression Cross-val score: 0.941\n"
     ]
    }
   ],
   "source": [
    "print(f'LogisticRegression Cross-val score: {score:.3f}')"
   ]
  },
  {
   "cell_type": "markdown",
   "id": "f8ca1c46",
   "metadata": {},
   "source": [
    "По итогам кросс-валидационного скоринга моделей можно отметить, что самой быстрой оказалась модель CatBoost(время исполнения блока - 9.05 секунд, F1 score - 0.924), такой же показатель скорости (без учета оптимизации) показала модель LightGBM с F1 score - 0.93, лучший показатель F1 score показала модель LogisticRegression - 0.941.\n",
    "\n",
    "Потому, выберем модель LogisticRegression для дальнейшего тестирования."
   ]
  },
  {
   "cell_type": "markdown",
   "id": "613645ea",
   "metadata": {},
   "source": [
    "## Тестирование модели LogisticRegression"
   ]
  },
  {
   "cell_type": "code",
   "execution_count": 179,
   "id": "f84e5984",
   "metadata": {
    "scrolled": true
   },
   "outputs": [
    {
     "name": "stdout",
     "output_type": "stream",
     "text": [
      "F1 score модели LogisticRegression: 0.75\n"
     ]
    },
    {
     "name": "stderr",
     "output_type": "stream",
     "text": [
      "/Users/denisusupov/opt/anaconda3/envs/ds_practicum_env/lib/python3.9/site-packages/sklearn/linear_model/_sag.py:350: ConvergenceWarning: The max_iter was reached which means the coef_ did not converge\n",
      "  warnings.warn(\n"
     ]
    }
   ],
   "source": [
    "model_LR.fit(X_train, y_train)\n",
    "\n",
    "predictions = model_LR.predict(X_test)\n",
    "score = f1_score(y_test, predictions)\n",
    "print(f'F1 score модели LogisticRegression: {score:.2f}')"
   ]
  },
  {
   "cell_type": "markdown",
   "id": "5b0ccf31",
   "metadata": {},
   "source": [
    "Как видно по показателю выше, итоговое значение метрики F1 для модели LogisticRegression равно 0.75"
   ]
  },
  {
   "cell_type": "markdown",
   "id": "4d7f5ebb",
   "metadata": {},
   "source": [
    "## Вывод"
   ]
  },
  {
   "cell_type": "markdown",
   "id": "a9be7260",
   "metadata": {},
   "source": [
    "В ходе исследования с помощью модели BERT были обработанны и закодированны текстовые признаки, далее были обучены три модели машинного обучения - CatBoost, LightGBM и LogisticRegression, по результатам тестирования которых, была выбрана лучшая модель LogisticRegression, итоговый показатель качества которой, по метрике F1, составил 0.75. \n",
    "\n",
    "Это значение можно сильно улучшить обработав всю генеральную совокупность данных моделью BERT и использовав эти данные для обучения и тестирования моделей, но, ввиду ограниченности вычислительных ресурсов, было решено взять выборку из всего 10000 строк, что сильно сказалось на итоговых показателях качества модели.\n",
    "\n",
    "\n",
    "Были проделаны следующие шаги:\n",
    "- Проанализированн и предобработан датасет.\n",
    "- Обработаны и закодированны текстовые признаки с помощью модели BERT.\n",
    "- Обучены и проанализированы 3 модели машинного обучения.\n",
    "- Выбрана и проверена наилучшая по показателям качества модель."
   ]
  }
 ],
 "metadata": {
  "ExecuteTimeLog": [
   {
    "duration": 10568,
    "start_time": "2023-04-08T10:02:47.989Z"
   },
   {
    "duration": 1629,
    "start_time": "2023-04-08T10:02:58.560Z"
   },
   {
    "duration": 18,
    "start_time": "2023-04-08T10:03:00.191Z"
   },
   {
    "duration": 636,
    "start_time": "2023-04-08T10:03:00.211Z"
   },
   {
    "duration": 50,
    "start_time": "2023-04-08T10:03:00.849Z"
   },
   {
    "duration": 258,
    "start_time": "2023-04-08T10:03:00.901Z"
   },
   {
    "duration": 14,
    "start_time": "2023-04-08T10:03:01.161Z"
   },
   {
    "duration": 147,
    "start_time": "2023-04-08T10:03:41.143Z"
   },
   {
    "duration": 2333,
    "start_time": "2023-04-09T14:43:58.815Z"
   }
  ],
  "kernelspec": {
   "display_name": "Python 3 (ipykernel)",
   "language": "python",
   "name": "python3"
  },
  "language_info": {
   "codemirror_mode": {
    "name": "ipython",
    "version": 3
   },
   "file_extension": ".py",
   "mimetype": "text/x-python",
   "name": "python",
   "nbconvert_exporter": "python",
   "pygments_lexer": "ipython3",
   "version": "3.9.13"
  },
  "toc": {
   "base_numbering": 1,
   "nav_menu": {},
   "number_sections": true,
   "sideBar": true,
   "skip_h1_title": true,
   "title_cell": "Table of Contents",
   "title_sidebar": "Contents",
   "toc_cell": true,
   "toc_position": {},
   "toc_section_display": true,
   "toc_window_display": false
  }
 },
 "nbformat": 4,
 "nbformat_minor": 5
}
